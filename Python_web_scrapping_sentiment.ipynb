{
 "cells": [
  {
   "cell_type": "markdown",
   "id": "ae864ebe-b61e-46c3-b7a4-0cdfd9028473",
   "metadata": {},
   "source": [
    "<h1><center> PPOL 5203 Final Project <br><br> \n",
    "<font color='grey'>Python code Wendy's version<br><br>\n",
    "Wendy Shi</center></center> <h1> "
   ]
  },
  {
   "cell_type": "markdown",
   "id": "13d0522b-ab9b-4248-9a3e-432e7ba390aa",
   "metadata": {},
   "source": [
    "# Acquiring NYT news info using API\n"
   ]
  },
  {
   "cell_type": "code",
   "execution_count": 1,
   "id": "e31286cc-becd-4017-bbf1-fa33cad1bb72",
   "metadata": {},
   "outputs": [],
   "source": [
    "import pandas as pd\n",
    "import requests \n",
    "import dotenv\n",
    "import os\n",
    "from dotenv import load_dotenv\n",
    "import time\n",
    "\n",
    "import pandas as pd\n",
    "\n",
    "API = pd.read_csv(r\"/Users/wendyshi2001/Documents/APIs/NYT_api.csv\")\n",
    "my_API = API.iloc[0,1] #here's how to select and print specific value in pandas dataframe"
   ]
  },
  {
   "cell_type": "code",
   "execution_count": 2,
   "id": "ce07a11c-d99c-4180-91cd-b974b6f4d43e",
   "metadata": {},
   "outputs": [],
   "source": [
    "all_state = [\"Alabama\",\"Alaska\",\"Arizona\",\"Arkansas\",\"California\",\n",
    "             \"Colorado\",\"Connecticut\",\"Delaware\",\"Florida\",\"Georgia\",\n",
    "             \"Hawaii\", \"Idaho\", \"Illinois\", \"Indiana\", \"Iowa\",\n",
    "             \"Kansas\", \"Kentucky\",\"Louisiana\",\"Maine\", \"Maryland\",\n",
    "             \"Massachusetts\", \"Michigan\", \"Minnesota\", \"Mississippi\", \"Missouri\",\n",
    "             \"Montana\", \"Nebraska\", \"Nevada\", \"New Hampshire\", \"New Jersey\",\n",
    "             \"New Mexico\",\"New York\", \"North Carolina\", \"North Dakota\", \"Ohio\",\n",
    "             \"Oklahoma\", \"Oregon\", \"Pennsylvania\", \"Rhode Island\", \"South Carolina\",\n",
    "             \"South Dakota\", \"Tennessee\", \"Texas\", \"Utah\", \"Vermont\",\n",
    "             \"Virginia\", \"Washington\", \"West Virginia\", \"Wisconsin\", \"Wyoming\"]"
   ]
  },
  {
   "cell_type": "code",
   "execution_count": 3,
   "id": "cb40580d-185f-4dc4-b5fe-a3b4045d45ad",
   "metadata": {},
   "outputs": [
    {
     "name": "stdout",
     "output_type": "stream",
     "text": [
      "Alabama : data avaiable\n",
      "Alaska : data avaiable\n",
      "Arizona : data avaiable\n",
      "Arkansas : no data available\n",
      "California : data avaiable\n",
      "Colorado : data avaiable\n",
      "Connecticut : data avaiable\n",
      "Delaware : no data available\n",
      "Florida : data avaiable\n",
      "Georgia : data avaiable\n",
      "Hawaii : data avaiable\n",
      "Idaho : no data available\n",
      "Illinois : no data available\n",
      "Indiana : no data available\n",
      "Iowa : data avaiable\n",
      "Kansas : no data available\n",
      "Kentucky : data avaiable\n",
      "Louisiana : data avaiable\n",
      "Maine : data avaiable\n",
      "Maryland : data avaiable\n",
      "Massachusetts : data avaiable\n",
      "Michigan : data avaiable\n",
      "Minnesota : no data available\n",
      "Mississippi : no data available\n",
      "Missouri : no data available\n",
      "Montana : data avaiable\n",
      "Nebraska : no data available\n",
      "Nevada : no data available\n",
      "New Hampshire : no data available\n",
      "New Jersey : data avaiable\n",
      "New Mexico : no data available\n",
      "New York : no data available\n",
      "North Carolina : data avaiable\n",
      "North Dakota : data avaiable\n",
      "Ohio : data avaiable\n",
      "Oklahoma : data avaiable\n",
      "Oregon : data avaiable\n",
      "Pennsylvania : data avaiable\n",
      "Rhode Island : no data available\n",
      "South Carolina : no data available\n",
      "South Dakota : no data available\n",
      "Tennessee : data avaiable\n",
      "Texas : data avaiable\n",
      "Utah : data avaiable\n",
      "Vermont : data avaiable\n",
      "Virginia : data avaiable\n",
      "Washington : no data available\n",
      "West Virginia : data avaiable\n",
      "Wisconsin : no data available\n",
      "Wyoming : data avaiable\n"
     ]
    }
   ],
   "source": [
    "for i in all_state:\n",
    "    base_url = 'https://api.nytimes.com/svc/search/v2/articlesearch.json'\n",
    "    params = {\n",
    "    'api-key': my_API,\n",
    "    'q': 'pollution',\n",
    "    'begin_date': '20010101',\n",
    "    'end_date': '20231201',\n",
    "    'fq': f'glocations:({i})', \n",
    "    #'news_desk': 'Environmnet',\n",
    "    'page': 1\n",
    "    }\n",
    "    response = requests.get(base_url, params=params)\n",
    "    if response.status_code == 200:\n",
    "        data = response.json()\n",
    "        first_article = data['response']['docs']\n",
    "        if len(first_article) == 10:\n",
    "            #if there is 10 article in the list\n",
    "            print(i,\":\", \"data avaiable\")\n",
    "        else:\n",
    "            print(i,\":\",\"no data available\") \n",
    "\n",
    "    else:\n",
    "        print(\"no connection\")\n",
    "    time.sleep(12)"
   ]
  },
  {
   "cell_type": "markdown",
   "id": "14b38645",
   "metadata": {},
   "source": [
    "# Buildig a Scrapper"
   ]
  },
  {
   "cell_type": "markdown",
   "id": "e714e181",
   "metadata": {},
   "source": [
    "### Run this code: This function gives you the jason file of specific pages"
   ]
  },
  {
   "cell_type": "code",
   "execution_count": 4,
   "id": "fa728d74",
   "metadata": {},
   "outputs": [],
   "source": [
    "# first define a function that changes page number\n",
    "def fetch_nyt_data(state, page):\n",
    "    base_url = 'https://api.nytimes.com/svc/search/v2/articlesearch.json'\n",
    "    params = {\n",
    "        'api-key': my_API,\n",
    "        'q': 'pollution',\n",
    "        'begin_date': '20010101',\n",
    "        'end_date': '20231201',\n",
    "        'fq': f'glocations:({state})', \n",
    "        #'news_desk': 'Environmnet',\n",
    "        'page': page\n",
    "        }\n",
    "    response = requests.get(base_url, params=params)\n",
    "    if response.status_code  == 200:\n",
    "        response_json = response.json()\n",
    "        \n",
    "    return response_json\n"
   ]
  },
  {
   "cell_type": "markdown",
   "id": "f66eae8a",
   "metadata": {},
   "source": [
    "### Failed Code: Do not run!!!"
   ]
  },
  {
   "cell_type": "markdown",
   "id": "ce9d11b6",
   "metadata": {},
   "source": [
    "def nytimes_state_data(state):\n",
    "    \n",
    "    jason_file = []\n",
    "    \n",
    "    for i in range(5) :\n",
    "        data = fetch_nyt_data(state,i) #jason file is in the form of dictionary\n",
    "        jason_file = jason_file + [data]\n",
    "        time.sleep(12)\n",
    "        \n",
    "        #jason_file = f\"{state}.data\"\n",
    "        #return f\"{state}.data\"\n",
    "        return jason_file"
   ]
  },
  {
   "cell_type": "markdown",
   "id": "3baed962-f8a2-4a63-9076-4067d0fa4123",
   "metadata": {},
   "source": [
    "# Colelcting data for each state"
   ]
  },
  {
   "cell_type": "markdown",
   "id": "72194ed6",
   "metadata": {},
   "source": [
    "### This is the guideline that we follow collecting data for each state\n",
    "-By changing range and wait time we are able to collect data for all states.\n",
    "\n",
    "-For example, for CA that have 599 articles, we need to set wait time = 60 to pull 600 articles.\n",
    "\n",
    "-This document serve as a example of how we collect data! We need to manually make adjustment collecting data for each state\n",
    "\n",
    "### we manually collect data by states with 31 cva file\n",
    "\n",
    "### Next, we manually convert them into one single cvs file"
   ]
  },
  {
   "cell_type": "code",
   "execution_count": 5,
   "id": "c701ac9b",
   "metadata": {},
   "outputs": [],
   "source": [
    "California = []\n",
    "    \n",
    "for i in range(10) :\n",
    "    data = fetch_nyt_data(\"California\",i) #jason file is in the form of dictionary\n",
    "    California = California + [data]\n",
    "    time.sleep(12)"
   ]
  },
  {
   "cell_type": "code",
   "execution_count": 6,
   "id": "3877d1e0",
   "metadata": {},
   "outputs": [
    {
     "data": {
      "text/plain": [
       "10"
      ]
     },
     "execution_count": 6,
     "metadata": {},
     "output_type": "execute_result"
    }
   ],
   "source": [
    "len(California)"
   ]
  },
  {
   "cell_type": "markdown",
   "id": "e55a24ae",
   "metadata": {},
   "source": [
    "### 1: Collecting title"
   ]
  },
  {
   "cell_type": "code",
   "execution_count": 7,
   "id": "9fbee9ae",
   "metadata": {},
   "outputs": [
    {
     "name": "stdout",
     "output_type": "stream",
     "text": [
      "100\n"
     ]
    }
   ],
   "source": [
    "CA_tit = []\n",
    "for i in range(len(California)):\n",
    "    articles = California[i]['response']['docs']\n",
    "    for article in articles:\n",
    "        CA_tit = CA_tit + [article['headline']['main']]\n",
    "print(len(CA_tit))\n",
    "#CT_tit\n",
    "#AL_tit"
   ]
  },
  {
   "cell_type": "markdown",
   "id": "b51148a4",
   "metadata": {},
   "source": [
    "### 2: Collecting url"
   ]
  },
  {
   "cell_type": "code",
   "execution_count": 9,
   "id": "014350c3",
   "metadata": {},
   "outputs": [
    {
     "name": "stdout",
     "output_type": "stream",
     "text": [
      "100\n"
     ]
    }
   ],
   "source": [
    "CA_url = []\n",
    "\n",
    "for i in range(len(California)):\n",
    "    articles = California[i]['response']['docs']\n",
    "    for article in articles:\n",
    "        CA_url = CA_url + [article['web_url']]\n",
    "\n",
    "print(len(CA_url))"
   ]
  },
  {
   "cell_type": "markdown",
   "id": "ba6d261c",
   "metadata": {},
   "source": [
    "### 3: Collecting publish date"
   ]
  },
  {
   "cell_type": "code",
   "execution_count": 10,
   "id": "e72d98da",
   "metadata": {},
   "outputs": [
    {
     "name": "stdout",
     "output_type": "stream",
     "text": [
      "100\n"
     ]
    }
   ],
   "source": [
    "CA_time = []\n",
    "for i in range(len(California)):\n",
    "    articles = California[i]['response']['docs']\n",
    "    for article in articles:\n",
    "        CA_time = CA_time + [article[\"pub_date\"]]\n",
    "print(len(CA_time))\n"
   ]
  },
  {
   "cell_type": "markdown",
   "id": "7cfbae1c",
   "metadata": {},
   "source": [
    "### 4: Collecting abstract"
   ]
  },
  {
   "cell_type": "code",
   "execution_count": 12,
   "id": "73ba0884",
   "metadata": {},
   "outputs": [
    {
     "name": "stdout",
     "output_type": "stream",
     "text": [
      "100\n"
     ]
    }
   ],
   "source": [
    "#The we collect all url\n",
    "CA_ab = []\n",
    "\n",
    "for i in range(len(California)):\n",
    "    articles = California[i]['response']['docs']\n",
    "    for article in articles:\n",
    "        CA_ab = CA_ab + [article[\"abstract\"]]\n",
    "print(len(CA_ab))\n",
    "#MD_ab\n"
   ]
  },
  {
   "cell_type": "markdown",
   "id": "b09ef5b3",
   "metadata": {},
   "source": [
    "### 5: Sentiment by state"
   ]
  },
  {
   "cell_type": "code",
   "execution_count": 13,
   "id": "70b4f346",
   "metadata": {},
   "outputs": [
    {
     "name": "stderr",
     "output_type": "stream",
     "text": [
      "No model was supplied, defaulted to distilbert-base-uncased-finetuned-sst-2-english and revision af0f99b (https://huggingface.co/distilbert-base-uncased-finetuned-sst-2-english).\n",
      "Using a pipeline without specifying a model name and revision in production is not recommended.\n"
     ]
    }
   ],
   "source": [
    "from transformers import pipeline\n",
    "sentiment_pipeline = pipeline(\"sentiment-analysis\")\n"
   ]
  },
  {
   "cell_type": "code",
   "execution_count": 14,
   "id": "15236dff",
   "metadata": {},
   "outputs": [
    {
     "data": {
      "text/plain": [
       "-0.4412294924259186"
      ]
     },
     "execution_count": 14,
     "metadata": {},
     "output_type": "execute_result"
    }
   ],
   "source": [
    "CA_senti = []\n",
    "\n",
    "for i in CA_ab:\n",
    "    if sentiment_pipeline(i)[0][\"label\"] == \"POSITIVE\":\n",
    "        CA_senti = CA_senti + [1*sentiment_pipeline(i)[0][\"score\"]]\n",
    "    else:\n",
    "        CA_senti = CA_senti + [-1*sentiment_pipeline(i)[0][\"score\"]]\n",
    "\n",
    "#MD_senti\n",
    "CA_mean = sum(CA_senti)/len(CA_senti)\n",
    "CA_mean"
   ]
  },
  {
   "cell_type": "code",
   "execution_count": 16,
   "id": "7eaff8a5",
   "metadata": {},
   "outputs": [
    {
     "data": {
      "text/html": [
       "<div>\n",
       "<style scoped>\n",
       "    .dataframe tbody tr th:only-of-type {\n",
       "        vertical-align: middle;\n",
       "    }\n",
       "\n",
       "    .dataframe tbody tr th {\n",
       "        vertical-align: top;\n",
       "    }\n",
       "\n",
       "    .dataframe thead th {\n",
       "        text-align: right;\n",
       "    }\n",
       "</style>\n",
       "<table border=\"1\" class=\"dataframe\">\n",
       "  <thead>\n",
       "    <tr style=\"text-align: right;\">\n",
       "      <th></th>\n",
       "      <th>Title</th>\n",
       "      <th>URL</th>\n",
       "      <th>Time</th>\n",
       "      <th>Abstrace</th>\n",
       "      <th>State</th>\n",
       "    </tr>\n",
       "  </thead>\n",
       "  <tbody>\n",
       "    <tr>\n",
       "      <th>95</th>\n",
       "      <td>California Car Deal Criticized as Hurting Gree...</td>\n",
       "      <td>https://www.nytimes.com/2012/02/05/us/californ...</td>\n",
       "      <td>2012-02-04T22:44:02+0000</td>\n",
       "      <td>Critics say a provision of the Advanced Clean ...</td>\n",
       "      <td>Florida</td>\n",
       "    </tr>\n",
       "    <tr>\n",
       "      <th>96</th>\n",
       "      <td>California Leads on Warming</td>\n",
       "      <td>https://www.nytimes.com/2006/08/05/opinion/cal...</td>\n",
       "      <td>2006-08-05T05:00:00+0000</td>\n",
       "      <td>Editorial praises British Prime Min Tony Blair...</td>\n",
       "      <td>Florida</td>\n",
       "    </tr>\n",
       "    <tr>\n",
       "      <th>97</th>\n",
       "      <td>California Judge Calls Time Out for Climate Ch...</td>\n",
       "      <td>https://green.blogs.nytimes.com/2011/03/22/cal...</td>\n",
       "      <td>2011-03-22T22:13:58+0000</td>\n",
       "      <td>Conservatives spent millions trying to derail ...</td>\n",
       "      <td>Florida</td>\n",
       "    </tr>\n",
       "    <tr>\n",
       "      <th>98</th>\n",
       "      <td>L.A.’s Quest to Cut Fossil Fuels</td>\n",
       "      <td>https://www.nytimes.com/2016/10/12/opinion/las...</td>\n",
       "      <td>2016-10-12T07:21:21+0000</td>\n",
       "      <td>Los Angeles has the potential to serve as an e...</td>\n",
       "      <td>Florida</td>\n",
       "    </tr>\n",
       "    <tr>\n",
       "      <th>99</th>\n",
       "      <td>Last-Minute Damage to the Environment</td>\n",
       "      <td>https://www.nytimes.com/2003/12/12/opinion/las...</td>\n",
       "      <td>2003-12-12T05:00:00+0000</td>\n",
       "      <td>Editorial calls on Senate to review two damagi...</td>\n",
       "      <td>Florida</td>\n",
       "    </tr>\n",
       "  </tbody>\n",
       "</table>\n",
       "</div>"
      ],
      "text/plain": [
       "                                                Title  \\\n",
       "95  California Car Deal Criticized as Hurting Gree...   \n",
       "96                        California Leads on Warming   \n",
       "97  California Judge Calls Time Out for Climate Ch...   \n",
       "98                   L.A.’s Quest to Cut Fossil Fuels   \n",
       "99              Last-Minute Damage to the Environment   \n",
       "\n",
       "                                                  URL  \\\n",
       "95  https://www.nytimes.com/2012/02/05/us/californ...   \n",
       "96  https://www.nytimes.com/2006/08/05/opinion/cal...   \n",
       "97  https://green.blogs.nytimes.com/2011/03/22/cal...   \n",
       "98  https://www.nytimes.com/2016/10/12/opinion/las...   \n",
       "99  https://www.nytimes.com/2003/12/12/opinion/las...   \n",
       "\n",
       "                        Time  \\\n",
       "95  2012-02-04T22:44:02+0000   \n",
       "96  2006-08-05T05:00:00+0000   \n",
       "97  2011-03-22T22:13:58+0000   \n",
       "98  2016-10-12T07:21:21+0000   \n",
       "99  2003-12-12T05:00:00+0000   \n",
       "\n",
       "                                             Abstrace    State  \n",
       "95  Critics say a provision of the Advanced Clean ...  Florida  \n",
       "96  Editorial praises British Prime Min Tony Blair...  Florida  \n",
       "97  Conservatives spent millions trying to derail ...  Florida  \n",
       "98  Los Angeles has the potential to serve as an e...  Florida  \n",
       "99  Editorial calls on Senate to review two damagi...  Florida  "
      ]
     },
     "execution_count": 16,
     "metadata": {},
     "output_type": "execute_result"
    }
   ],
   "source": [
    "CA_column = {\"Title\": CA_tit,\n",
    "             \"URL\" : CA_url,\n",
    "              \"Time\": CA_time,\n",
    "              \"Abstrace\": CA_ab}\n",
    "\n",
    "CA_pd = pd.DataFrame(CA_column)\n",
    "\n",
    "CA_pd[\"State\"] = \"Florida\"\n",
    "CA_pd.tail()"
   ]
  },
  {
   "cell_type": "markdown",
   "id": "5e5fadee",
   "metadata": {},
   "source": [
    "## Saving state data to a csv file"
   ]
  },
  {
   "cell_type": "code",
   "execution_count": 86,
   "id": "67d09baa",
   "metadata": {},
   "outputs": [],
   "source": [
    "import pandas as pd\n",
    "\n",
    "folder_path = \"/Users/wendyshi2001/Desktop/DataScience23/Final Project/CSV_data\" \n",
    "file_path = f'{folder_path}/FL_data.csv'\n",
    "\n",
    "FL_pd.to_csv(file_path, index=False)"
   ]
  },
  {
   "cell_type": "markdown",
   "id": "985608c1",
   "metadata": {},
   "source": [
    "## Reload the state_file for concatenation"
   ]
  },
  {
   "cell_type": "code",
   "execution_count": 87,
   "id": "698c356e",
   "metadata": {},
   "outputs": [],
   "source": [
    "import pandas as pd\n",
    "\n",
    "csv_file_path = '/Users/wendyshi2001/Desktop/DataScience23/Final Project/CSV_data/AK_data.csv'\n",
    "AK_data = pd.read_csv(csv_file_path)\n",
    "\n",
    "csv_file_path = '/Users/wendyshi2001/Desktop/DataScience23/Final Project/CSV_data/AL_data.csv'\n",
    "AL_data = pd.read_csv(csv_file_path)\n",
    "\n",
    "csv_file_path = '/Users/wendyshi2001/Desktop/DataScience23/Final Project/CSV_data/AZ_data.csv'\n",
    "AZ_data = pd.read_csv(csv_file_path)\n",
    "\n",
    "csv_file_path = '/Users/wendyshi2001/Desktop/DataScience23/Final Project/CSV_data/CA_data.csv'\n",
    "CA_data = pd.read_csv(csv_file_path)\n",
    "\n",
    "csv_file_path = '/Users/wendyshi2001/Desktop/DataScience23/Final Project/CSV_data/CO_data.csv'\n",
    "CO_data = pd.read_csv(csv_file_path)\n",
    "\n",
    "csv_file_path = '/Users/wendyshi2001/Desktop/DataScience23/Final Project/CSV_data/CT_data.csv'\n",
    "CT_data = pd.read_csv(csv_file_path)\n",
    "\n",
    "csv_file_path = '/Users/wendyshi2001/Desktop/DataScience23/Final Project/CSV_data/FL_data.csv'\n",
    "FL_data = pd.read_csv(csv_file_path)"
   ]
  },
  {
   "cell_type": "code",
   "execution_count": 165,
   "id": "75bf0931",
   "metadata": {},
   "outputs": [
    {
     "name": "stdout",
     "output_type": "stream",
     "text": [
      "Title       object\n",
      "URL         object\n",
      "Time        object\n",
      "Abstrace    object\n",
      "State       object\n",
      "dtype: object\n"
     ]
    }
   ],
   "source": [
    "print(AL_data.dtypes)"
   ]
  },
  {
   "cell_type": "code",
   "execution_count": 90,
   "id": "3999a11b",
   "metadata": {},
   "outputs": [],
   "source": [
    "Wendy_data = pd.concat([AK_data,AL_data,AZ_data,\n",
    "                        CA_data,CO_data,CT_data,FL_data], axis=0)"
   ]
  },
  {
   "cell_type": "code",
   "execution_count": 91,
   "id": "e7fab869",
   "metadata": {},
   "outputs": [],
   "source": [
    "folder_path = \"/Users/wendyshi2001/Desktop/DataScience23/Final Project/CSV_data\" \n",
    "file_path = f'{folder_path}/Wendy_data.csv'\n",
    "\n",
    "Wendy_data.to_csv(file_path, index=False)"
   ]
  },
  {
   "cell_type": "code",
   "execution_count": 92,
   "id": "7314d350",
   "metadata": {},
   "outputs": [],
   "source": [
    "path1 = '/Users/wendyshi2001/Desktop/DataScience23/Final Project/CSV_data/cyx_concat.csv'\n",
    "CYX_data = pd.read_csv(path1)\n",
    "\n",
    "path2 = '/Users/wendyshi2001/Desktop/DataScience23/Final Project/CSV_data/combined_states.csv'\n",
    "TT_data = pd.read_csv(path2)"
   ]
  },
  {
   "cell_type": "code",
   "execution_count": 93,
   "id": "eeb6c319",
   "metadata": {},
   "outputs": [],
   "source": [
    "Full_data = pd.concat([Wendy_data,CYX_data,TT_data], axis=0)"
   ]
  },
  {
   "cell_type": "code",
   "execution_count": 94,
   "id": "a4fe2569",
   "metadata": {},
   "outputs": [],
   "source": [
    "folder_path = \"/Users/wendyshi2001/Desktop/DataScience23/Final Project/CSV_data\" \n",
    "file_path = f'{folder_path}/Full_data.csv'\n",
    "\n",
    "Full_data.to_csv(file_path, index=False)"
   ]
  },
  {
   "cell_type": "code",
   "execution_count": null,
   "id": "e3a62e9b",
   "metadata": {},
   "outputs": [],
   "source": []
  }
 ],
 "metadata": {
  "kernelspec": {
   "display_name": "Python 3 (ipykernel)",
   "language": "python",
   "name": "python3"
  },
  "language_info": {
   "codemirror_mode": {
    "name": "ipython",
    "version": 3
   },
   "file_extension": ".py",
   "mimetype": "text/x-python",
   "name": "python",
   "nbconvert_exporter": "python",
   "pygments_lexer": "ipython3",
   "version": "3.11.5"
  }
 },
 "nbformat": 4,
 "nbformat_minor": 5
}
